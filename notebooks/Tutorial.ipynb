{
 "cells": [
  {
   "cell_type": "code",
   "execution_count": 25,
   "metadata": {
    "collapsed": false,
    "deletable": true,
    "editable": true
   },
   "outputs": [],
   "source": [
    "# PyMongo for MongoDB queries\n",
    "from pymongo import MongoClient\n",
    "from collections import OrderedDict\n",
    "\n",
    "import os\n",
    "import sys\n",
    "sys.path.insert(0, os.path.abspath('..'))\n",
    "\n",
    "# Bokeh + Datashader\n",
    "import datashader as ds\n",
    "import datashader.transfer_functions as tf\n",
    "from datashader.utils import export_image\n",
    "\n",
    "# Import pandas for dataframe support\n",
    "import pandas as pd\n",
    "import json\n",
    "\n",
    "# MatPlotLib for colors and basic plotting\n",
    "import matplotlib.pyplot as plt\n",
    "import matplotlib.colors as colors\n",
    "import numpy as np\n",
    "import warnings\n",
    "\n",
    "from pygs.database import SpectralProfiler\n",
    "\n",
    "import hashlib\n",
    "warnings.filterwarnings('ignore')\n",
    "\n",
    "def create_hash(query, projection):\n",
    "    return hashlib.sha224((json.dumps(query) + json.dumps(projection)).encode()).hexdigest()"
   ]
  },
  {
   "cell_type": "markdown",
   "metadata": {},
   "source": [
    "## Connecting to The Database\n",
    "\n",
    "First step is to connect to the database...\n",
    "* Create Connection\n",
    "* Setup a query along with a projection\n",
    " * A Projection sets up the fields you want to return from the query\n",
    "* Get the REF1 and location data and compute a Pandas dataframe \n"
   ]
  },
  {
   "cell_type": "code",
   "execution_count": 6,
   "metadata": {
    "collapsed": false,
    "deletable": true,
    "editable": true
   },
   "outputs": [
    {
     "name": "stdout",
     "output_type": "stream",
     "text": [
      "19286\n"
     ]
    }
   ],
   "source": [
    "# Create Connection\n",
    "conn = SpectralProfiler(\"localhost\", 27017)\n",
    "\n",
    "# Create some Queries with a projection\n",
    "query, projection = {}, {\"loc\" : True, \"ref2\": True}\n",
    "query2, projection2 = { \"loc\": { \"$geoWithin\": { \"$center\": [[160, -73], 50] }    } }, {\"loc\" : True, \"ref2\": True}\n",
    "\n",
    "# Generate a dataframe from the query\n",
    "data = conn.compute_dataframe(query, projection, field = \"ref2\")\n",
    "print(len(data))"
   ]
  },
  {
   "cell_type": "code",
   "execution_count": 5,
   "metadata": {
    "collapsed": false,
    "deletable": true,
    "editable": true
   },
   "outputs": [
    {
     "data": {
      "text/html": [
       "<div>\n",
       "<table border=\"1\" class=\"dataframe\">\n",
       "  <thead>\n",
       "    <tr style=\"text-align: right;\">\n",
       "      <th></th>\n",
       "      <th>long</th>\n",
       "      <th>lat</th>\n",
       "      <th>512.6</th>\n",
       "      <th>518.4</th>\n",
       "      <th>524.7</th>\n",
       "      <th>530.4</th>\n",
       "      <th>536.5</th>\n",
       "      <th>542.8</th>\n",
       "      <th>548.7</th>\n",
       "      <th>554.5</th>\n",
       "      <th>...</th>\n",
       "      <th>2516.1</th>\n",
       "      <th>2524.1</th>\n",
       "      <th>2532.1</th>\n",
       "      <th>2540.0</th>\n",
       "      <th>2548.0</th>\n",
       "      <th>2556.0</th>\n",
       "      <th>2564.0</th>\n",
       "      <th>2572.0</th>\n",
       "      <th>2579.9</th>\n",
       "      <th>2587.9</th>\n",
       "    </tr>\n",
       "  </thead>\n",
       "  <tbody>\n",
       "    <tr>\n",
       "      <th>0</th>\n",
       "      <td>157.781560</td>\n",
       "      <td>-60.727073</td>\n",
       "      <td>0.041863</td>\n",
       "      <td>0.050497</td>\n",
       "      <td>0.051282</td>\n",
       "      <td>0.053786</td>\n",
       "      <td>0.055079</td>\n",
       "      <td>0.056820</td>\n",
       "      <td>0.057738</td>\n",
       "      <td>0.059032</td>\n",
       "      <td>...</td>\n",
       "      <td>0.001642</td>\n",
       "      <td>0.183591</td>\n",
       "      <td>0.237403</td>\n",
       "      <td>0.278378</td>\n",
       "      <td>0.072938</td>\n",
       "      <td>0.061655</td>\n",
       "      <td>0.141393</td>\n",
       "      <td>0.001768</td>\n",
       "      <td>0.005341</td>\n",
       "      <td>0.116528</td>\n",
       "    </tr>\n",
       "    <tr>\n",
       "      <th>1</th>\n",
       "      <td>154.146185</td>\n",
       "      <td>14.161762</td>\n",
       "      <td>0.042064</td>\n",
       "      <td>0.050623</td>\n",
       "      <td>0.051282</td>\n",
       "      <td>0.053982</td>\n",
       "      <td>0.054723</td>\n",
       "      <td>0.056574</td>\n",
       "      <td>0.057556</td>\n",
       "      <td>0.058833</td>\n",
       "      <td>...</td>\n",
       "      <td>0.217138</td>\n",
       "      <td>0.265795</td>\n",
       "      <td>0.246267</td>\n",
       "      <td>0.281420</td>\n",
       "      <td>0.228613</td>\n",
       "      <td>0.000000</td>\n",
       "      <td>0.280115</td>\n",
       "      <td>0.011944</td>\n",
       "      <td>0.163428</td>\n",
       "      <td>0.000167</td>\n",
       "    </tr>\n",
       "    <tr>\n",
       "      <th>2</th>\n",
       "      <td>155.516532</td>\n",
       "      <td>-6.568198</td>\n",
       "      <td>0.047363</td>\n",
       "      <td>0.057063</td>\n",
       "      <td>0.057847</td>\n",
       "      <td>0.060879</td>\n",
       "      <td>0.061979</td>\n",
       "      <td>0.064082</td>\n",
       "      <td>0.065071</td>\n",
       "      <td>0.066453</td>\n",
       "      <td>...</td>\n",
       "      <td>0.266161</td>\n",
       "      <td>0.245013</td>\n",
       "      <td>0.346061</td>\n",
       "      <td>0.351000</td>\n",
       "      <td>0.269624</td>\n",
       "      <td>0.032339</td>\n",
       "      <td>0.335055</td>\n",
       "      <td>0.006771</td>\n",
       "      <td>0.115884</td>\n",
       "      <td>0.055555</td>\n",
       "    </tr>\n",
       "    <tr>\n",
       "      <th>3</th>\n",
       "      <td>157.354620</td>\n",
       "      <td>-48.767015</td>\n",
       "      <td>0.045528</td>\n",
       "      <td>0.054889</td>\n",
       "      <td>0.055653</td>\n",
       "      <td>0.058439</td>\n",
       "      <td>0.059722</td>\n",
       "      <td>0.061553</td>\n",
       "      <td>0.062562</td>\n",
       "      <td>0.063864</td>\n",
       "      <td>...</td>\n",
       "      <td>0.005633</td>\n",
       "      <td>0.244647</td>\n",
       "      <td>0.320979</td>\n",
       "      <td>0.218926</td>\n",
       "      <td>0.216484</td>\n",
       "      <td>0.103663</td>\n",
       "      <td>0.291951</td>\n",
       "      <td>0.002843</td>\n",
       "      <td>0.011534</td>\n",
       "      <td>0.069517</td>\n",
       "    </tr>\n",
       "    <tr>\n",
       "      <th>4</th>\n",
       "      <td>160.668476</td>\n",
       "      <td>-71.308910</td>\n",
       "      <td>0.024801</td>\n",
       "      <td>0.029914</td>\n",
       "      <td>0.030322</td>\n",
       "      <td>0.031742</td>\n",
       "      <td>0.032514</td>\n",
       "      <td>0.033686</td>\n",
       "      <td>0.034057</td>\n",
       "      <td>0.034713</td>\n",
       "      <td>...</td>\n",
       "      <td>0.000000</td>\n",
       "      <td>0.176362</td>\n",
       "      <td>0.005303</td>\n",
       "      <td>0.308268</td>\n",
       "      <td>0.003445</td>\n",
       "      <td>0.031489</td>\n",
       "      <td>0.031334</td>\n",
       "      <td>0.002900</td>\n",
       "      <td>0.000393</td>\n",
       "      <td>0.005353</td>\n",
       "    </tr>\n",
       "    <tr>\n",
       "      <th>5</th>\n",
       "      <td>150.786067</td>\n",
       "      <td>-44.977130</td>\n",
       "      <td>0.054955</td>\n",
       "      <td>0.066209</td>\n",
       "      <td>0.067113</td>\n",
       "      <td>0.070464</td>\n",
       "      <td>0.072025</td>\n",
       "      <td>0.074207</td>\n",
       "      <td>0.075391</td>\n",
       "      <td>0.076826</td>\n",
       "      <td>...</td>\n",
       "      <td>0.074330</td>\n",
       "      <td>0.190070</td>\n",
       "      <td>0.283630</td>\n",
       "      <td>0.318520</td>\n",
       "      <td>0.266834</td>\n",
       "      <td>0.000663</td>\n",
       "      <td>0.203016</td>\n",
       "      <td>0.000564</td>\n",
       "      <td>0.084887</td>\n",
       "      <td>0.018574</td>\n",
       "    </tr>\n",
       "    <tr>\n",
       "      <th>6</th>\n",
       "      <td>151.799101</td>\n",
       "      <td>-42.246756</td>\n",
       "      <td>0.074012</td>\n",
       "      <td>0.089357</td>\n",
       "      <td>0.090622</td>\n",
       "      <td>0.095084</td>\n",
       "      <td>0.097278</td>\n",
       "      <td>0.100287</td>\n",
       "      <td>0.101708</td>\n",
       "      <td>0.103597</td>\n",
       "      <td>...</td>\n",
       "      <td>0.246664</td>\n",
       "      <td>0.338064</td>\n",
       "      <td>0.307753</td>\n",
       "      <td>0.275888</td>\n",
       "      <td>0.278149</td>\n",
       "      <td>0.000000</td>\n",
       "      <td>0.506747</td>\n",
       "      <td>0.000089</td>\n",
       "      <td>0.160051</td>\n",
       "      <td>0.001314</td>\n",
       "    </tr>\n",
       "    <tr>\n",
       "      <th>7</th>\n",
       "      <td>-16.225430</td>\n",
       "      <td>81.866752</td>\n",
       "      <td>1.008144</td>\n",
       "      <td>0.672074</td>\n",
       "      <td>1.680323</td>\n",
       "      <td>2.016369</td>\n",
       "      <td>1.680331</td>\n",
       "      <td>0.840154</td>\n",
       "      <td>0.840118</td>\n",
       "      <td>1.344249</td>\n",
       "      <td>...</td>\n",
       "      <td>3.651243</td>\n",
       "      <td>5.617341</td>\n",
       "      <td>5.734069</td>\n",
       "      <td>5.198354</td>\n",
       "      <td>1.750397</td>\n",
       "      <td>5.901281</td>\n",
       "      <td>4.849467</td>\n",
       "      <td>1.976674</td>\n",
       "      <td>5.090693</td>\n",
       "      <td>0.167741</td>\n",
       "    </tr>\n",
       "    <tr>\n",
       "      <th>8</th>\n",
       "      <td>151.291321</td>\n",
       "      <td>70.438398</td>\n",
       "      <td>0.051164</td>\n",
       "      <td>0.061372</td>\n",
       "      <td>0.062450</td>\n",
       "      <td>0.065559</td>\n",
       "      <td>0.065830</td>\n",
       "      <td>0.068166</td>\n",
       "      <td>0.070057</td>\n",
       "      <td>0.072003</td>\n",
       "      <td>...</td>\n",
       "      <td>0.359311</td>\n",
       "      <td>0.402488</td>\n",
       "      <td>0.282824</td>\n",
       "      <td>0.489203</td>\n",
       "      <td>0.156684</td>\n",
       "      <td>0.016966</td>\n",
       "      <td>0.339932</td>\n",
       "      <td>0.031550</td>\n",
       "      <td>0.115128</td>\n",
       "      <td>0.003643</td>\n",
       "    </tr>\n",
       "    <tr>\n",
       "      <th>9</th>\n",
       "      <td>150.619141</td>\n",
       "      <td>34.210644</td>\n",
       "      <td>0.057200</td>\n",
       "      <td>0.068756</td>\n",
       "      <td>0.069687</td>\n",
       "      <td>0.073215</td>\n",
       "      <td>0.074041</td>\n",
       "      <td>0.076649</td>\n",
       "      <td>0.078059</td>\n",
       "      <td>0.079862</td>\n",
       "      <td>...</td>\n",
       "      <td>0.283249</td>\n",
       "      <td>0.338441</td>\n",
       "      <td>0.268244</td>\n",
       "      <td>0.258774</td>\n",
       "      <td>0.170115</td>\n",
       "      <td>0.000000</td>\n",
       "      <td>0.453677</td>\n",
       "      <td>0.000000</td>\n",
       "      <td>0.220931</td>\n",
       "      <td>0.000000</td>\n",
       "    </tr>\n",
       "  </tbody>\n",
       "</table>\n",
       "<p>10 rows × 271 columns</p>\n",
       "</div>"
      ],
      "text/plain": [
       "         long        lat     512.6     518.4     524.7     530.4     536.5  \\\n",
       "0  157.781560 -60.727073  0.041863  0.050497  0.051282  0.053786  0.055079   \n",
       "1  154.146185  14.161762  0.042064  0.050623  0.051282  0.053982  0.054723   \n",
       "2  155.516532  -6.568198  0.047363  0.057063  0.057847  0.060879  0.061979   \n",
       "3  157.354620 -48.767015  0.045528  0.054889  0.055653  0.058439  0.059722   \n",
       "4  160.668476 -71.308910  0.024801  0.029914  0.030322  0.031742  0.032514   \n",
       "5  150.786067 -44.977130  0.054955  0.066209  0.067113  0.070464  0.072025   \n",
       "6  151.799101 -42.246756  0.074012  0.089357  0.090622  0.095084  0.097278   \n",
       "7  -16.225430  81.866752  1.008144  0.672074  1.680323  2.016369  1.680331   \n",
       "8  151.291321  70.438398  0.051164  0.061372  0.062450  0.065559  0.065830   \n",
       "9  150.619141  34.210644  0.057200  0.068756  0.069687  0.073215  0.074041   \n",
       "\n",
       "      542.8     548.7     554.5    ...       2516.1    2524.1    2532.1  \\\n",
       "0  0.056820  0.057738  0.059032    ...     0.001642  0.183591  0.237403   \n",
       "1  0.056574  0.057556  0.058833    ...     0.217138  0.265795  0.246267   \n",
       "2  0.064082  0.065071  0.066453    ...     0.266161  0.245013  0.346061   \n",
       "3  0.061553  0.062562  0.063864    ...     0.005633  0.244647  0.320979   \n",
       "4  0.033686  0.034057  0.034713    ...     0.000000  0.176362  0.005303   \n",
       "5  0.074207  0.075391  0.076826    ...     0.074330  0.190070  0.283630   \n",
       "6  0.100287  0.101708  0.103597    ...     0.246664  0.338064  0.307753   \n",
       "7  0.840154  0.840118  1.344249    ...     3.651243  5.617341  5.734069   \n",
       "8  0.068166  0.070057  0.072003    ...     0.359311  0.402488  0.282824   \n",
       "9  0.076649  0.078059  0.079862    ...     0.283249  0.338441  0.268244   \n",
       "\n",
       "     2540.0    2548.0    2556.0    2564.0    2572.0    2579.9    2587.9  \n",
       "0  0.278378  0.072938  0.061655  0.141393  0.001768  0.005341  0.116528  \n",
       "1  0.281420  0.228613  0.000000  0.280115  0.011944  0.163428  0.000167  \n",
       "2  0.351000  0.269624  0.032339  0.335055  0.006771  0.115884  0.055555  \n",
       "3  0.218926  0.216484  0.103663  0.291951  0.002843  0.011534  0.069517  \n",
       "4  0.308268  0.003445  0.031489  0.031334  0.002900  0.000393  0.005353  \n",
       "5  0.318520  0.266834  0.000663  0.203016  0.000564  0.084887  0.018574  \n",
       "6  0.275888  0.278149  0.000000  0.506747  0.000089  0.160051  0.001314  \n",
       "7  5.198354  1.750397  5.901281  4.849467  1.976674  5.090693  0.167741  \n",
       "8  0.489203  0.156684  0.016966  0.339932  0.031550  0.115128  0.003643  \n",
       "9  0.258774  0.170115  0.000000  0.453677  0.000000  0.220931  0.000000  \n",
       "\n",
       "[10 rows x 271 columns]"
      ]
     },
     "execution_count": 5,
     "metadata": {},
     "output_type": "execute_result"
    }
   ],
   "source": [
    "# Disaply the dataframe\n",
    "data[:10]"
   ]
  },
  {
   "cell_type": "markdown",
   "metadata": {
    "collapsed": false,
    "deletable": true,
    "editable": true
   },
   "source": [
    "## Generate The Image\n",
    "\n",
    "The Dataframe has all the necessary refectance data for all wavelengths. From the lat lon fields and a selection from the wavelenghts, we can generate an image\n"
   ]
  },
  {
   "cell_type": "code",
   "execution_count": 7,
   "metadata": {
    "collapsed": false,
    "deletable": true,
    "editable": true
   },
   "outputs": [],
   "source": [
    "# Generate an image\n",
    "img = conn.compute_image(600, 300, \"bone\", bg=None)"
   ]
  },
  {
   "cell_type": "code",
   "execution_count": 8,
   "metadata": {
    "collapsed": false,
    "deletable": true,
    "editable": true
   },
   "outputs": [
    {
     "data": {
      "image/png": "[encoded data removed]",
      "text/plain": [
       "<xarray.Image (y_axis: 300, x_axis: 600)>\n",
       "array([[0, 0, 0, ..., 0, 0, 0],\n",
       "       [0, 0, 0, ..., 0, 0, 0],\n",
       "       [0, 0, 0, ..., 0, 0, 0],\n",
       "       ..., \n",
       "       [0, 0, 0, ..., 0, 0, 0],\n",
       "       [0, 0, 0, ..., 0, 0, 0],\n",
       "       [0, 0, 0, ..., 0, 0, 0]], dtype=uint32)\n",
       "Coordinates:\n",
       "  * y_axis   (y_axis) float64 -89.81 -89.21 -88.61 -88.01 -87.41 -86.81 ...\n",
       "  * x_axis   (x_axis) float64 -178.5 -177.9 -177.3 -176.7 -176.2 -175.6 ..."
      ]
     },
     "execution_count": 8,
     "metadata": {},
     "output_type": "execute_result"
    }
   ],
   "source": [
    "# display it\n",
    "img"
   ]
  },
  {
   "cell_type": "markdown",
   "metadata": {
    "collapsed": false,
    "deletable": true,
    "editable": true
   },
   "source": [
    "## Saving the Image\n",
    "\n",
    "Once the image is computed, it is stored only in memory. To be used over GeoServer, we need to save it as a GeoTiff. GeoTiff is an image format that contains the raster data along with other metadata (footprints, band info, etc.)\n",
    "\n",
    "We do a listing for all .tif images to show that the image is saved on disk"
   ]
  },
  {
   "cell_type": "code",
   "execution_count": 15,
   "metadata": {
    "collapsed": false,
    "deletable": true,
    "editable": true
   },
   "outputs": [],
   "source": [
    "conn.save_image(\"test.tif\")"
   ]
  },
  {
   "cell_type": "code",
   "execution_count": 16,
   "metadata": {
    "collapsed": false,
    "deletable": true,
    "editable": true,
    "scrolled": false
   },
   "outputs": [
    {
     "name": "stdout",
     "output_type": "stream",
     "text": [
      "test.tif\r\n"
     ]
    }
   ],
   "source": [
    "ls *.tif "
   ]
  },
  {
   "cell_type": "code",
   "execution_count": 24,
   "metadata": {
    "collapsed": false
   },
   "outputs": [],
   "source": []
  },
  {
   "cell_type": "markdown",
   "metadata": {},
   "source": [
    "## Interacting with Geoserver with gsconfig\n",
    "\n",
    "`gsconfig` allows us to interact with Geoserver via its rest API. We now use GeoServer to generate a new layer using the hash from the query used to generate the image. This makes sure we can uniquely identify each layer. If a particular query creates the same hash, then we can return the same data layer of recomputing everything."
   ]
  },
  {
   "cell_type": "code",
   "execution_count": 26,
   "metadata": {
    "collapsed": false,
    "deletable": true,
    "editable": true
   },
   "outputs": [],
   "source": [
    "# import gsconfig stuff\n",
    "import geoserver\n",
    "import geoserver.util\n",
    "from geoserver.catalog import Catalog\n",
    "\n",
    "# connect to the catalog\n",
    "cat = Catalog(\"http://localhost:8080/geoserver/rest/\")"
   ]
  },
  {
   "cell_type": "code",
   "execution_count": 27,
   "metadata": {
    "collapsed": false,
    "deletable": true,
    "editable": true,
    "scrolled": false
   },
   "outputs": [],
   "source": [
    "# get the selene workspace\n",
    "workspace = cat.get_workspace(\"selene\")"
   ]
  },
  {
   "cell_type": "code",
   "execution_count": 31,
   "metadata": {
    "collapsed": false,
    "deletable": true,
    "editable": true
   },
   "outputs": [
    {
     "name": "stdout",
     "output_type": "stream",
     "text": [
      "New layer created: f339089608e3ad7065f4f02387916fd0609cf899f8fb4f2ad7b898ef\n"
     ]
    }
   ],
   "source": [
    "cat.create_coveragestore(create_hash(query, projection), \"test.tif\", workspace,overwrite=True)\n",
    "print(\"New layer created: \" + create_hash(query,projection))"
   ]
  },
  {
   "cell_type": "code",
   "execution_count": 41,
   "metadata": {
    "collapsed": false,
    "deletable": true,
    "editable": true
   },
   "outputs": [
    {
     "data": {
      "text/plain": [
       "['images',\n",
       " 'images_alt',\n",
       " 'rest',\n",
       " 'usgs',\n",
       " 'f339089608e3ad7065f4f02387916fd0609cf899f8fb4f2ad7b898ef']"
      ]
     },
     "execution_count": 41,
     "metadata": {},
     "output_type": "execute_result"
    }
   ],
   "source": [
    "# Display the current layers\n",
    "[layer.name for layer in cat.get_layers()]"
   ]
  },
  {
   "cell_type": "code",
   "execution_count": 30,
   "metadata": {
    "collapsed": false,
    "deletable": true,
    "editable": true
   },
   "outputs": [
    {
     "data": {
      "text/plain": [
       "{'height': '0',\n",
       " 'href': None,\n",
       " 'title': None,\n",
       " 'type': None,\n",
       " 'url': None,\n",
       " 'width': '0'}"
      ]
     },
     "execution_count": 30,
     "metadata": {},
     "output_type": "execute_result"
    }
   ],
   "source": [
    "rest._get_attr_attribution()"
   ]
  },
  {
   "cell_type": "code",
   "execution_count": 14,
   "metadata": {
    "collapsed": false,
    "deletable": true,
    "editable": true
   },
   "outputs": [
    {
     "data": {
      "text/plain": [
       "<Response [200]>"
      ]
     },
     "execution_count": 14,
     "metadata": {},
     "output_type": "execute_result"
    }
   ],
   "source": [
    "store = cat.get_store(\"rest\")\n",
    "layer = cat.get_layer(\"rest\")\n",
    "\n",
    "cat.delete(layer)\n",
    "cat.reload()\n",
    "cat.delete(store)\n",
    "cat.reload()"
   ]
  },
  {
   "cell_type": "code",
   "execution_count": null,
   "metadata": {
    "collapsed": false,
    "deletable": true,
    "editable": true
   },
   "outputs": [],
   "source": [
    "def base_plot(tools='pan,wheel_zoom,reset',plot_width=900, plot_height=500, x_range=None, y_range=None, **plot_args):\n",
    "    p = Figure(tools=tools, plot_width=plot_width, plot_height=plot_height,\n",
    "        x_range=x_range, y_range=y_range, outline_line_color=None,\n",
    "        background_fill_color='black',\n",
    "        min_border=0, min_border_left=0, min_border_right=0,\n",
    "        min_border_top=0, min_border_bottom=0, **plot_args)\n",
    "    \n",
    "\n",
    "    \n",
    "    p.axis.visible = False\n",
    "    p.xgrid.grid_line_color = None\n",
    "    p.ygrid.grid_line_color = None\n",
    "    return p\n",
    "\n",
    "def update_image(x_range, y_range, w, h, how='log'):\n",
    "    canvas = ds.Canvas(plot_width=w, plot_height=h, x_range=x_range, y_range=y_range)\n",
    "    agg = canvas.points(dataframe, 'long', 'lat', ds.mean('530.4'))\n",
    "    img = tf.shade(agg, cmap=cmap)\n",
    "    img = ds.transfer_functions.set_background(img, '#777777')\n",
    "    return img\n",
    "\n",
    "p = base_plot(x_range=(-180, 180), y_range=(-90, 90))\n",
    "InteractiveImage(p, update_image)"
   ]
  },
  {
   "cell_type": "code",
   "execution_count": null,
   "metadata": {
    "collapsed": true,
    "deletable": true,
    "editable": true
   },
   "outputs": [],
   "source": [
    "from scipy.stats import percentileofscore\n",
    "\n",
    "def plot_scatter(key, title=None, color_func=plt.cm.cool, **kwargs):\n",
    "    \"\"\"\n",
    "    Plot wavelength intesities. This can be reflectance, radience, raw, etc.\n",
    "    \"\"\"\n",
    "    indices = [key+'.{}'.format(i) for i in range(0, num_wavelengths)]\n",
    "    vals = np.asarray(next(client.block_query(\"selene\", \"points\", {}, indices,\\\n",
    "                                              [\"float32\"]*len(indices), block_size=1))).flatten()\n",
    "    \n",
    "    plt.figure(figsize=(12,5))\n",
    "    precentiles = [percentileofscore(vals, val)/100 for val in vals]\n",
    "    colors = color_func(precentiles)\n",
    "    plt.scatter(wavelengths, vals, color=colors, alpha=1, s=20, \\\n",
    "                label='Wavelength', marker='o',**kwargs)\n",
    "    \n",
    "    if title:\n",
    "        plt.title(title)\n",
    "    \n",
    "    plt.xlabel('Wavelength')\n",
    "    plt.ylabel('Intensity')\n",
    "    plt.xlim([500,2580])\n",
    "    plt.show()\n",
    "    \n",
    "    \n",
    "def plot_line(key, title=None, **kwargs):\n",
    "    \"\"\"\n",
    "    Plot wavelength intesities. This can be reflectance, radience, raw, etc.\n",
    "    \"\"\"\n",
    "    indices = [key+'.{}'.format(i) for i in range(0, num_wavelengths)]\n",
    "    refs = np.asarray(next(client.block_query(\"selene\", \"points\", {}, indices, \\\n",
    "                                              [\"float32\"]*len(indices), block_size=1))).flatten()\n",
    "    \n",
    "    plt.figure(figsize=(12,5))\n",
    "    plt.plot(wavelengths, refs, markersize=5, color='b', markerfacecolor='1',\\\n",
    "             alpha=1, lw = 1, label='Wavelength', marker='.',**kwargs)\n",
    "    \n",
    "    if title:\n",
    "        plt.title(title)\n",
    "    \n",
    "    plt.xlabel('Wavelength')\n",
    "    plt.ylabel('Intensity')\n",
    "    plt.xlim([500,2580])\n",
    "    plt.show()"
   ]
  },
  {
   "cell_type": "code",
   "execution_count": null,
   "metadata": {
    "collapsed": false,
    "deletable": true,
    "editable": true
   },
   "outputs": [],
   "source": [
    "# Plot the first reflectance\n",
    "plot_line('ref1', title='REFLECTANCE 1')\n",
    "plot_line('ref2', title='REFLECTANCE 2')"
   ]
  },
  {
   "cell_type": "code",
   "execution_count": null,
   "metadata": {
    "collapsed": false,
    "deletable": true,
    "editable": true
   },
   "outputs": [],
   "source": [
    "# Plot the RAW values\n",
    "plot_scatter('raw', title='RAW', color_func=plt.cm.cool)\n",
    "# get the quality vector\n",
    "plot_scatter('qa', title='QUALITY', color_func=plt.cm.cool)"
   ]
  }
 ],
 "metadata": {
  "anaconda-cloud": {},
  "kernelspec": {
   "display_name": "Python 3",
   "language": "python",
   "name": "python3"
  },
  "language_info": {
   "codemirror_mode": {
    "name": "ipython",
    "version": 3
   },
   "file_extension": ".py",
   "mimetype": "text/x-python",
   "name": "python",
   "nbconvert_exporter": "python",
   "pygments_lexer": "ipython3",
   "version": "3.5.3"
  },
  "widgets": {
   "state": {},
   "version": "1.1.2"
  }
 },
 "nbformat": 4,
 "nbformat_minor": 0
}
